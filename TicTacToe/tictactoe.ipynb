{
 "cells": [
  {
   "cell_type": "code",
   "execution_count": 1,
   "id": "c73460b6-7d9f-4cb7-b721-e313d5084848",
   "metadata": {},
   "outputs": [],
   "source": [
    "from pprint import pprint\n",
    "from numpy import array"
   ]
  },
  {
   "cell_type": "code",
   "execution_count": 288,
   "id": "707191e7",
   "metadata": {},
   "outputs": [],
   "source": [
    "def is_part_of_2(x,y):\n",
    "    \"\"\"\n",
    "    checks if x:iterable is part of y:iterable \n",
    "    SCOPE 2\n",
    "    \"\"\"\n",
    "    print(x)\n",
    "    for i in y:\n",
    "        if x==i or x in i:\n",
    "            return True\n",
    "    return False"
   ]
  },
  {
   "cell_type": "code",
   "execution_count": 437,
   "id": "48706b4e",
   "metadata": {},
   "outputs": [],
   "source": [
    "def is_part_of_2(x,y):\n",
    "    \"\"\"\n",
    "    checks if x:iterable is part of y:iterable \n",
    "    SCOPE 2\n",
    "    \"\"\"\n",
    "#     print(x)\n",
    "    l = [[j in i for j in x] for i in y]\n",
    "    for i in l:\n",
    "        if False not in i:\n",
    "            return True\n",
    "    return False"
   ]
  },
  {
   "cell_type": "code",
   "execution_count": null,
   "id": "f9f5db9d",
   "metadata": {},
   "outputs": [],
   "source": []
  },
  {
   "cell_type": "code",
   "execution_count": 500,
   "id": "e7a2c44d-578b-4c72-a25f-0975f430dac4",
   "metadata": {},
   "outputs": [],
   "source": [
    "class Board:\n",
    "    \n",
    "    @staticmethod\n",
    "    def generate_board(n:int,place_holder='-'):\n",
    "        # fr sm rsn [[\"-\"]*n]*n wont work properly\n",
    "        \n",
    "        ls = [[place_holder for i in range(n)] for i in range(n)]\n",
    "        return ls\n",
    "    \n",
    "        \n",
    "    def __init__(self,n:int,w:int=3):\n",
    "        \n",
    "        self.n = n\n",
    "        self.board = Board.generate_board(n)\n",
    "        self.w = w\n",
    "    \n",
    "    def show(self):\n",
    "        \n",
    "        for i in self.board:\n",
    "            for n,j in enumerate(i):\n",
    "                if n!= len(i)-1:\n",
    "                    print(f\" {j} |\", end='')\n",
    "                else:\n",
    "                    print(f\" {j}\", end='\\n')\n",
    "    \n",
    "    def change(self, ch,pos):\n",
    "        \"\"\"\n",
    "        ch = X|O\n",
    "        pos-> coord\n",
    "        \"\"\"\n",
    "        \n",
    "        self.board[pos[1]][pos[0]] = ch\n",
    "    \n",
    "    def wincheck(self, ch):\n",
    "        \n",
    "        # scalar done on array\n",
    "        # converted to list for comparistion\n",
    "\n",
    "        \n",
    "        # get all coord of ch\n",
    "        coords = array([array((x,y)) for y,row in enumerate(self.board) for x,i in enumerate(row) if i==ch])\n",
    "        \n",
    "        # ltr Diagnal check\n",
    "        dg_ls = [True for n in range(len(coords)) if [-1,-1] in [list(i) for i in coords[n]-coords]]\n",
    "        if self.w - 1 <= len(dg_ls):\n",
    "            print(\"Diagnal ltr\")\n",
    "            \n",
    "        # rtl Diagnal check\n",
    "        dg_ls = [True for n in range(len(coords)) if [1,-1] in [list(i) for i in coords[n]-coords]]\n",
    "        if self.w - 1 <= len(dg_ls):\n",
    "            print(\"Diagnal rtl\")\n",
    "\n",
    "        \n",
    "        ls = array([coords[n]-coords for n in range(len(coords))])\n",
    "        ls = ls.tolist()\n",
    "        \n",
    "        # Vertical check\n",
    "        if is_part_of_2([[0,i] for i in range(self.w)],ls) or is_part_of_2([[0,-i] for i in range(self.w)],ls):\n",
    "            print(\"Vertical\")\n",
    "\n",
    "        # Horizontal check\n",
    "        h_ls = [([list(i) for i in coords[n]-coords]) for n in range(len(coords))]\n",
    "        if is_part_of_2([[i,0] for i in range(self.w)], ls) or is_part_of_2([[-i,0] for i in range(self.w)], ls):\n",
    "            print(\"Horizontal\")\n",
    "        \n",
    "        return coords, ls\n",
    "        "
   ]
  },
  {
   "cell_type": "code",
   "execution_count": 501,
   "id": "371f0584-7334-4059-91a5-747d791386d5",
   "metadata": {},
   "outputs": [],
   "source": [
    "brd = Board(5,4)"
   ]
  },
  {
   "cell_type": "code",
   "execution_count": 502,
   "id": "bc708131",
   "metadata": {},
   "outputs": [],
   "source": [
    "brd.change('X',(1,4))\n",
    "brd.change('X',(2,3))\n",
    "brd.change('X',(3,2))\n",
    "brd.change('X',(4,1))"
   ]
  },
  {
   "cell_type": "code",
   "execution_count": 503,
   "id": "adda4eec",
   "metadata": {
    "scrolled": true
   },
   "outputs": [
    {
     "name": "stdout",
     "output_type": "stream",
     "text": [
      " - | - | - | - | -\n",
      " - | - | - | - | X\n",
      " - | - | - | X | -\n",
      " - | - | X | - | -\n",
      " - | X | - | - | -\n"
     ]
    }
   ],
   "source": [
    "brd.show()"
   ]
  },
  {
   "cell_type": "code",
   "execution_count": 504,
   "id": "134f1491",
   "metadata": {},
   "outputs": [
    {
     "name": "stdout",
     "output_type": "stream",
     "text": [
      "Diagnal rtl\n"
     ]
    }
   ],
   "source": [
    "coords, ls = brd.wincheck(\"X\")\n",
    "# coords"
   ]
  },
  {
   "cell_type": "code",
   "execution_count": null,
   "id": "a81d0e3f",
   "metadata": {},
   "outputs": [],
   "source": []
  }
 ],
 "metadata": {
  "kernelspec": {
   "display_name": "Python 3 (ipykernel)",
   "language": "python",
   "name": "python3"
  },
  "language_info": {
   "codemirror_mode": {
    "name": "ipython",
    "version": 3
   },
   "file_extension": ".py",
   "mimetype": "text/x-python",
   "name": "python",
   "nbconvert_exporter": "python",
   "pygments_lexer": "ipython3",
   "version": "3.9.12"
  }
 },
 "nbformat": 4,
 "nbformat_minor": 5
}
